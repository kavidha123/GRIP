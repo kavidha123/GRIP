{
 "cells": [
  {
   "cell_type": "markdown",
   "id": "5c2b9151-249d-4eb1-adde-a46f6f6daa4b",
   "metadata": {},
   "source": [
    "# PROJECT BY KAVIDHA KRISHNAMOORTHI"
   ]
  },
  {
   "cell_type": "markdown",
   "id": "19017d98-a2fa-49c6-a13e-986e52977ca6",
   "metadata": {},
   "source": [
    "# Import Libraries"
   ]
  },
  {
   "cell_type": "code",
   "execution_count": 1,
   "id": "547eaade-26c5-4684-9c86-c56b48ffcc47",
   "metadata": {},
   "outputs": [],
   "source": [
    "import pandas as pd\n",
    "import numpy as np\n",
    "import matplotlib.pyplot as plt\n",
    "from sklearn.model_selection import train_test_split\n",
    "from sklearn.linear_model import LinearRegression\n",
    "from sklearn import metrics\n"
   ]
  },
  {
   "cell_type": "markdown",
   "id": "fc8d7915-9000-4a98-a5f6-49266c88d4ef",
   "metadata": {},
   "source": [
    "# Load the Data"
   ]
  },
  {
   "cell_type": "code",
   "execution_count": 2,
   "id": "1eafb4b8-da87-440d-a7f5-8f3a880707e7",
   "metadata": {},
   "outputs": [
    {
     "name": "stdout",
     "output_type": "stream",
     "text": [
      "   Hours  Scores\n",
      "0    2.5      21\n",
      "1    5.1      47\n",
      "2    3.2      27\n",
      "3    8.5      75\n",
      "4    3.5      30\n"
     ]
    }
   ],
   "source": [
    "# Load the data\n",
    "data = pd.read_csv('student/student.csv')\n",
    "print(data.head())  # Print the first few rows of the data\n"
   ]
  },
  {
   "cell_type": "markdown",
   "id": "273982cf-05b6-4cf7-8ab0-661f1bd53e2f",
   "metadata": {},
   "source": [
    "# Prepare the Data"
   ]
  },
  {
   "cell_type": "code",
   "execution_count": 3,
   "id": "efe94544-511d-4096-9ad2-c0a100d3e9d3",
   "metadata": {},
   "outputs": [
    {
     "name": "stdout",
     "output_type": "stream",
     "text": [
      "Features (Hours):\n",
      " [[2.5]\n",
      " [5.1]\n",
      " [3.2]\n",
      " [8.5]\n",
      " [3.5]]\n",
      "Labels (Scores):\n",
      " [21 47 27 75 30]\n"
     ]
    }
   ],
   "source": [
    "# Prepare the data\n",
    "X = data.iloc[:, :-1].values  # Features - Hours\n",
    "y = data.iloc[:, 1].values    # Labels - Scores\n",
    "print('Features (Hours):\\n', X[:5])  # Print first 5 feature values\n",
    "print('Labels (Scores):\\n', y[:5])   # Print first 5 label values\n"
   ]
  },
  {
   "cell_type": "markdown",
   "id": "a52b1a50-4d1d-4089-bbf2-5f14b491548b",
   "metadata": {},
   "source": [
    "#  Split the Data"
   ]
  },
  {
   "cell_type": "code",
   "execution_count": 4,
   "id": "76e03e7c-9c42-488d-a827-7a74ed9e1fbd",
   "metadata": {},
   "outputs": [
    {
     "name": "stdout",
     "output_type": "stream",
     "text": [
      "Training set: 20 samples\n",
      "Testing set: 5 samples\n"
     ]
    }
   ],
   "source": [
    "# Split the data into training and testing sets\n",
    "X_train, X_test, y_train, y_test = train_test_split(X, y, test_size=0.2, random_state=0)\n",
    "print('Training set:', X_train.shape[0], 'samples')\n",
    "print('Testing set:', X_test.shape[0], 'samples')\n"
   ]
  },
  {
   "cell_type": "markdown",
   "id": "66331143-749e-461f-8672-ab4ada441ef5",
   "metadata": {},
   "source": [
    "# Train the Model"
   ]
  },
  {
   "cell_type": "code",
   "execution_count": 5,
   "id": "72e71fe9-b41e-4fd0-a971-319116650173",
   "metadata": {},
   "outputs": [
    {
     "name": "stdout",
     "output_type": "stream",
     "text": [
      "Coefficient:  [9.91065648]\n",
      "Intercept:  2.0181600414346974\n"
     ]
    }
   ],
   "source": [
    "# Train the linear regression model\n",
    "regressor = LinearRegression()\n",
    "regressor.fit(X_train, y_train)\n",
    "print(\"Coefficient: \", regressor.coef_)\n",
    "print(\"Intercept: \", regressor.intercept_)\n"
   ]
  },
  {
   "cell_type": "markdown",
   "id": "0c3f31e7-b120-4673-aa70-3530996d3ceb",
   "metadata": {},
   "source": [
    "#  Plot the Regression Line"
   ]
  },
  {
   "cell_type": "code",
   "execution_count": 6,
   "id": "65ed3fcd-bc82-415d-a578-ccf1e1aa53b4",
   "metadata": {},
   "outputs": [
    {
     "data": {
      "image/png": "[encoded data removed]",
      "text/plain": [
       "<Figure size 640x480 with 1 Axes>"
      ]
     },
     "metadata": {},
     "output_type": "display_data"
    }
   ],
   "source": [
    "# Plotting the regression line and the data points\n",
    "line = regressor.coef_ * X + regressor.intercept_\n",
    "plt.scatter(X, y)\n",
    "plt.plot(X, line, color='red')\n",
    "plt.title('Hours vs Percentage')\n",
    "plt.xlabel('Hours Studied')\n",
    "plt.ylabel('Percentage Score')\n",
    "plt.show()\n"
   ]
  },
  {
   "cell_type": "markdown",
   "id": "a01c8040-10a5-47da-bf5f-4ee39264a627",
   "metadata": {},
   "source": [
    "# Make Predictions"
   ]
  },
  {
   "cell_type": "code",
   "execution_count": 7,
   "id": "94e3934b-50b2-4ee6-80d5-98edd8788f7a",
   "metadata": {},
   "outputs": [
    {
     "name": "stdout",
     "output_type": "stream",
     "text": [
      "Predictions for the test data: [16.88414476 33.73226078 75.357018   26.79480124 60.49103328]\n"
     ]
    }
   ],
   "source": [
    "# Making predictions on the test data\n",
    "y_pred = regressor.predict(X_test)\n",
    "print('Predictions for the test data:', y_pred)\n"
   ]
  },
  {
   "cell_type": "markdown",
   "id": "fb6b5f10-ee09-4b86-b729-a8a16f1795c2",
   "metadata": {},
   "source": [
    "# Compare Actual vs Predicted Scores"
   ]
  },
  {
   "cell_type": "code",
   "execution_count": 8,
   "id": "743d847d-e82c-497c-b5ee-b4894057afc8",
   "metadata": {},
   "outputs": [
    {
     "name": "stdout",
     "output_type": "stream",
     "text": [
      "   Actual  Predicted\n",
      "0      20  16.884145\n",
      "1      27  33.732261\n",
      "2      69  75.357018\n",
      "3      30  26.794801\n",
      "4      62  60.491033\n"
     ]
    }
   ],
   "source": [
    "# Comparing Actual vs Predicted\n",
    "df_comparison = pd.DataFrame({'Actual': y_test, 'Predicted': y_pred})\n",
    "print(df_comparison)\n"
   ]
  },
  {
   "cell_type": "markdown",
   "id": "cc9fdd59-e3c9-4cbb-abd8-e9fffbe40d7a",
   "metadata": {},
   "source": [
    "# Predict with Custom Data"
   ]
  },
  {
   "cell_type": "code",
   "execution_count": 9,
   "id": "17061a6a-3e35-46e6-8d62-ee4b97c9f960",
   "metadata": {},
   "outputs": [
    {
     "name": "stdout",
     "output_type": "stream",
     "text": [
      "Predicted Score for 9.25 hours/day: 93.69173248737535\n"
     ]
    }
   ],
   "source": [
    "# Predicting the score for custom hours\n",
    "hours = np.array(9.25).reshape(-1, 1)\n",
    "own_pred = regressor.predict(hours)\n",
    "print(\"Predicted Score for 9.25 hours/day:\", own_pred[0])\n"
   ]
  },
  {
   "cell_type": "markdown",
   "id": "c599a517-0576-4b2f-8873-3dd52a4704a2",
   "metadata": {},
   "source": [
    "# Calculate Mean Absolute Error"
   ]
  },
  {
   "cell_type": "code",
   "execution_count": 10,
   "id": "c28ce8e4-9ca2-4928-89cf-a127cc6f721a",
   "metadata": {},
   "outputs": [
    {
     "name": "stdout",
     "output_type": "stream",
     "text": [
      "Mean Absolute Error: 4.183859899002975\n"
     ]
    }
   ],
   "source": [
    "# Calculate and print the Mean Absolute Error\n",
    "mae = metrics.mean_absolute_error(y_test, y_pred)\n",
    "print('Mean Absolute Error:', mae)\n"
   ]
  },
  {
   "cell_type": "code",
   "execution_count": null,
   "id": "6c3f5e66-989d-49e9-afde-3c34f752b72b",
   "metadata": {},
   "outputs": [],
   "source": []
  }
 ],
 "metadata": {
  "kernelspec": {
   "display_name": "Python 3 (ipykernel)",
   "language": "python",
   "name": "python3"
  },
  "language_info": {
   "codemirror_mode": {
    "name": "ipython",
    "version": 3
   },
   "file_extension": ".py",
   "mimetype": "text/x-python",
   "name": "python",
   "nbconvert_exporter": "python",
   "pygments_lexer": "ipython3",
   "version": "3.11.3"
  }
 },
 "nbformat": 4,
 "nbformat_minor": 5
}
